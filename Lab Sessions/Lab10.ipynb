{
 "cells": [
  {
   "cell_type": "code",
   "execution_count": 76,
   "metadata": {},
   "outputs": [
    {
     "name": "stdout",
     "output_type": "stream",
     "text": [
      "{'Alan J. Perlis': '1966', 'Maurice Wilkes': '1967', 'Richard Hamming': '1968', 'Marvin Minsky': '1969', 'James H. Wilkinson': '1970', 'John McCarthy': '1971', 'Edsger W. Dijkstra': '1972', 'Charles W. Bachman': '1973', 'Donald E. Knuth': '1974', 'Allen Newell': '1975', 'Herbert A. Simon': '1975', 'Michael O. Rabin': '1976', 'Dana S. Scott': '1976', 'John Backus': '1977', 'Robert W. Floyd': '1978', 'Kenneth E. Iverson': '1979', 'Tony Hoare': '1980', 'Edgar F. Codd': '1981', 'Stephen A. Cook': '1982', 'Ken Thompson': '1983', 'Dennis M. Ritchie': '1983', 'Niklaus Wirth': '1984', 'Richard M. Karp': '1985', 'John Hopcroft': '1986', 'Robert Tarjan': '1986', 'John Cocke': '1987', 'Ivan Sutherland': '1988', 'William Kahan': '1989', 'Fernando J. Corbató': '1990', 'Robin Milner': '1991', 'Butler W. Lampson': '1992', 'Juris Hartmanis': '1993', 'Richard E. Stearns': '1993', 'Edward Feigenbaum': '1994', 'Raj Reddy': '1994', 'Manuel Blum': '1995', 'Amir Pnueli': '1996', 'Douglas Engelbart': '1997', 'Jim Gray': '1998', 'Frederick P. Brooks, Jr.': '1999', 'Andrew Chi-Chih Yao': '2000', 'Ole-Johan Dahl': '2001', 'Kristen Nygaard': '2001', 'Ronald L. Rivest': '2002', 'Adi Shamir': '2002', 'Leonard M. Adleman': '2002', 'Alan Kay': '2003', 'Vinton G. Cerf': '2004', 'Robert E. Kahn': '2004', 'Peter Naur': '2005', 'Frances E. Allen': '2006', 'Edmund M. Clarke': '2007', 'E. Allen Emerson': '2007', 'Joseph Sifakis': '2007', 'Barbara Liskov': '2008', 'Charles P. Thacker': '2009', 'Leslie G. Valiant': '2010', 'Judea Pearl': '2011', 'Silvio Micali': '2012', 'Shafi Goldwasser': '2012', 'Leslie Lamport': '2013', 'Michael Stonebraker': '2014', 'Martin E. Hellman': '2015', 'Whitfield Diffie': '2015', 'Tim Berners-Lee': '2016', 'John L. Hennessy': '2017', 'David A. Patterson': '2017', 'Yoshua Bengio': '2018', 'Geoffrey Hinton': '2018', 'Yann LeCun': '2018'}\n"
     ]
    }
   ],
   "source": [
    "import requests\n",
    "from bs4 import BeautifulSoup\n",
    "\n",
    "URL = \"https://en.wikipedia.org/wiki/Turing_Award\"\n",
    "r = requests.get(URL)\n",
    "\n",
    "soup = BeautifulSoup(r.content, \"html.parser\")\n",
    "\n",
    "dictionary = {}\n",
    "count = 0\n",
    "\n",
    "table = soup.find(\"table\", attrs = {\"class\":\"wikitable\"})\n",
    "\n",
    "for row in table.findAll(\"tr\"):\n",
    "    #print(row.prettify())\n",
    "    row_content = row.find(\"td\")\n",
    "    if row_content == None:\n",
    "        continue\n",
    "    #print(row_content)\n",
    "    \n",
    "    year_content = row.find(\"th\")\n",
    "    #print(year_content)\n",
    "    if year_content is not None:\n",
    "        year = year_content.text\n",
    "        year = year.rstrip()\n",
    "    name = row_content.find(\"a\").text\n",
    "    #print(year)\n",
    "    #print(name)\n",
    "    dictionary[name] = year\n",
    "print(dictionary)"
   ]
  },
  {
   "cell_type": "code",
   "execution_count": null,
   "metadata": {},
   "outputs": [],
   "source": []
  }
 ],
 "metadata": {
  "kernelspec": {
   "display_name": "Python 3",
   "language": "python",
   "name": "python3"
  },
  "language_info": {
   "codemirror_mode": {
    "name": "ipython",
    "version": 3
   },
   "file_extension": ".py",
   "mimetype": "text/x-python",
   "name": "python",
   "nbconvert_exporter": "python",
   "pygments_lexer": "ipython3",
   "version": "3.6.4"
  }
 },
 "nbformat": 4,
 "nbformat_minor": 2
}
