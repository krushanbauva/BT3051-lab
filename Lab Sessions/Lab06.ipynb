{
 "cells": [
  {
   "cell_type": "code",
   "execution_count": 11,
   "metadata": {},
   "outputs": [],
   "source": [
    "def selection_sort(A):\n",
    "    n = len(A)\n",
    "    for i in range(n-1):\n",
    "        k = i\n",
    "        for j in range(i+1, n):\n",
    "            if A[j] < A[k]:\n",
    "                k = j\n",
    "        A[i], A[k] = A[k], A[i]\n",
    "    return A"
   ]
  },
  {
   "cell_type": "code",
   "execution_count": 13,
   "metadata": {},
   "outputs": [
    {
     "data": {
      "text/plain": [
       "[-5, -1, 1, 2, 3, 4, 6, 7, 10, 15]"
      ]
     },
     "execution_count": 13,
     "metadata": {},
     "output_type": "execute_result"
    }
   ],
   "source": [
    "selection_sort([1, 4, 3, 7, 2, 10, -1, -5, 6, 15])"
   ]
  },
  {
   "cell_type": "code",
   "execution_count": 16,
   "metadata": {},
   "outputs": [],
   "source": [
    "def bubble_sort(A):\n",
    "    n = len(A)\n",
    "    for i in range(n-1, 0, -1):\n",
    "        for j in range(i):\n",
    "            if A[j] > A[j+1]:\n",
    "                A[j], A[j+1] = A[j+1], A[j]\n",
    "    return A"
   ]
  },
  {
   "cell_type": "code",
   "execution_count": 17,
   "metadata": {},
   "outputs": [
    {
     "data": {
      "text/plain": [
       "[-5, -1, 1, 2, 3, 4, 6, 7, 10, 15]"
      ]
     },
     "execution_count": 17,
     "metadata": {},
     "output_type": "execute_result"
    }
   ],
   "source": [
    "bubble_sort([1, 4, 3, 7, 2, 10, -1, -5, 6, 15])"
   ]
  },
  {
   "cell_type": "code",
   "execution_count": 22,
   "metadata": {},
   "outputs": [],
   "source": [
    "def insertion_sort(A):\n",
    "    n = len(A)\n",
    "    for i in range(1,n):\n",
    "        for j in range(i, 0, -1):\n",
    "            if A[j] < A[j-1]:\n",
    "                A[j], A[j-1] = A[j-1], A[j]\n",
    "            else:\n",
    "                break\n",
    "    return A"
   ]
  },
  {
   "cell_type": "code",
   "execution_count": 23,
   "metadata": {},
   "outputs": [
    {
     "data": {
      "text/plain": [
       "[-5, -1, 1, 2, 3, 4, 6, 7, 10, 15]"
      ]
     },
     "execution_count": 23,
     "metadata": {},
     "output_type": "execute_result"
    }
   ],
   "source": [
    "insertion_sort([1, 4, 3, 7, 2, 10, -1, -5, 6, 15])"
   ]
  },
  {
   "cell_type": "code",
   "execution_count": 104,
   "metadata": {},
   "outputs": [],
   "source": [
    "def djikstras_two_stack_algo(S):\n",
    "    lefty = \"({[\"\n",
    "    righty = \")}]\"\n",
    "    operators = \"*/+-\"\n",
    "    numbers = \"0123456789\"\n",
    "    operand_stack = []\n",
    "    operator_stack = []\n",
    "    open_braces = 0\n",
    "    val = \"\"\n",
    "    prev_int = False\n",
    "    for a in S:\n",
    "        if prev_int == True:\n",
    "            if a in numbers:\n",
    "                val = val + a\n",
    "            else:\n",
    "                operand_stack.append(int(val))\n",
    "                val = \"\"\n",
    "                prev_int = False\n",
    "        else:\n",
    "            if a in numbers:\n",
    "                prev_int = True\n",
    "                val = val + a\n",
    "        if a in lefty:\n",
    "            open_braces += 1\n",
    "        elif a in operators:\n",
    "            operator_stack.append(a)\n",
    "        elif a in operators:\n",
    "            operator_stack.append(a)\n",
    "        elif a in righty:\n",
    "            #print(a)\n",
    "            if len(operand_stack) == 0:\n",
    "                raise Exception(\"Operand stack is empty\")\n",
    "            op2 = operand_stack.pop()\n",
    "            if len(operand_stack) == 0:\n",
    "                raise Exception(\"Operand stack is empty\")\n",
    "            op1 = operand_stack.pop()\n",
    "            if len(operator_stack) == 0:\n",
    "                raise Exception(\"Operator stack is empty\")\n",
    "            opr = operator_stack.pop()\n",
    "            if opr == \"*\":\n",
    "                operand_stack.append(op1 * op2)\n",
    "            elif opr == \"/\":\n",
    "                operand_stack.append(op1 / op2)\n",
    "            elif opr == \"+\":\n",
    "                operand_stack.append(op1 + op2)\n",
    "            elif opr == \"-\":\n",
    "                operand_stack.append(op1 - op2)\n",
    "            open_braces -= 1\n",
    "        #print(a)\n",
    "        #print(operand_stack)\n",
    "        #print(operator_stack)\n",
    "    if len(operand_stack) == 0:\n",
    "        raise Exception(\"An error occured\")\n",
    "    final_ans = operand_stack.pop()\n",
    "    #return final_ans\n",
    "    if open_braces == 0 and len(operand_stack) == 0:\n",
    "    #if open_braces == 0:\n",
    "        return final_ans\n",
    "    else:\n",
    "        raise Exception(\"An error occured\")"
   ]
  },
  {
   "cell_type": "code",
   "execution_count": 105,
   "metadata": {},
   "outputs": [
    {
     "data": {
      "text/plain": [
       "17"
      ]
     },
     "execution_count": 105,
     "metadata": {},
     "output_type": "execute_result"
    }
   ],
   "source": [
    "djikstras_two_stack_algo(\"(3+(15-1))\")"
   ]
  },
  {
   "cell_type": "code",
   "execution_count": 110,
   "metadata": {},
   "outputs": [
    {
     "data": {
      "text/plain": [
       "8937983492"
      ]
     },
     "execution_count": 110,
     "metadata": {},
     "output_type": "execute_result"
    }
   ],
   "source": [
    "djikstras_two_stack_algo(\"(4*2234495873)\")"
   ]
  },
  {
   "cell_type": "code",
   "execution_count": 108,
   "metadata": {},
   "outputs": [
    {
     "data": {
      "text/plain": [
       "45.0"
      ]
     },
     "execution_count": 108,
     "metadata": {},
     "output_type": "execute_result"
    }
   ],
   "source": [
    "djikstras_two_stack_algo(\"[3*(17-(4/2))]\")"
   ]
  },
  {
   "cell_type": "code",
   "execution_count": null,
   "metadata": {},
   "outputs": [],
   "source": []
  }
 ],
 "metadata": {
  "kernelspec": {
   "display_name": "Python 3",
   "language": "python",
   "name": "python3"
  },
  "language_info": {
   "codemirror_mode": {
    "name": "ipython",
    "version": 3
   },
   "file_extension": ".py",
   "mimetype": "text/x-python",
   "name": "python",
   "nbconvert_exporter": "python",
   "pygments_lexer": "ipython3",
   "version": "3.6.4"
  }
 },
 "nbformat": 4,
 "nbformat_minor": 2
}
