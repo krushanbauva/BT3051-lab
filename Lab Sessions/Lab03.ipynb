{
 "cells": [
  {
   "cell_type": "code",
   "execution_count": 68,
   "metadata": {},
   "outputs": [],
   "source": [
    "def linear_search(list1, element):\n",
    "    for i in range(len(list1)):\n",
    "        if (list1[i] == element):\n",
    "            #print(\"Element found at position\", i+1)\n",
    "            break\n",
    "    '''if (i == len(list1)-1):\n",
    "        print(\"Element not found\")'''"
   ]
  },
  {
   "cell_type": "code",
   "execution_count": 69,
   "metadata": {},
   "outputs": [],
   "source": [
    "linear_search([1, 2, 3, 4, 5], -1)"
   ]
  },
  {
   "cell_type": "code",
   "execution_count": 70,
   "metadata": {},
   "outputs": [],
   "source": [
    "def binary_search(list1, element):\n",
    "    low = 0\n",
    "    high = len(list1)-1\n",
    "    #print(high)\n",
    "    while (high >= low):\n",
    "        mid =int((high + low) / 2)\n",
    "        #print(mid)\n",
    "        if (element == list1[mid]):\n",
    "            #print(\"Element found at position\", mid+1)\n",
    "            break\n",
    "        elif (element > list1[mid]):\n",
    "            low = mid + 1\n",
    "        elif (element < list1[mid]):\n",
    "            high = mid - 1\n",
    "    '''if (high < low):\n",
    "        print(\"Element not found\")'''"
   ]
  },
  {
   "cell_type": "code",
   "execution_count": 71,
   "metadata": {},
   "outputs": [],
   "source": [
    "binary_search([0, 1, 2, 3, 4, 5, 6], -1)"
   ]
  },
  {
   "cell_type": "code",
   "execution_count": 92,
   "metadata": {},
   "outputs": [],
   "source": [
    "import time\n",
    "linear_time = []\n",
    "binary_time = []\n",
    "for i in range(1,1001,1):\n",
    "    l1 = []\n",
    "    for j in range(i):\n",
    "        l1.append(j)\n",
    "    #print(l1)\n",
    "    t_begin = time.perf_counter()\n",
    "    linear_search(l1, -1)\n",
    "    t_end = time.perf_counter()\n",
    "    linear_time.append(t_end - t_begin)\n",
    "    t_begin = time.perf_counter()\n",
    "    binary_search(l1, -1)\n",
    "    t_end = time.perf_counter()\n",
    "    binary_time.append(t_end - t_begin)\n",
    "#print(linear_time)\n",
    "#print(binary_time)"
   ]
  },
  {
   "cell_type": "code",
   "execution_count": 93,
   "metadata": {},
   "outputs": [
    {
     "data": {
      "text/plain": [
       "Text(0,0.5,'Time')"
      ]
     },
     "execution_count": 93,
     "metadata": {},
     "output_type": "execute_result"
    },
    {
     "data": {
      "image/png": "[encoded data removed]",
      "text/plain": [
       "<matplotlib.figure.Figure at 0x1a6f5cf4ba8>"
      ]
     },
     "metadata": {},
     "output_type": "display_data"
    }
   ],
   "source": [
    "%matplotlib inline\n",
    "import matplotlib.pyplot as plt\n",
    "plt.plot(range(1,1001,1), linear_time)\n",
    "plt.plot(range(1,1001,1), binary_time)\n",
    "plt.xlabel('N')\n",
    "plt.ylabel('Time')"
   ]
  },
  {
   "cell_type": "code",
   "execution_count": null,
   "metadata": {},
   "outputs": [],
   "source": []
  },
  {
   "cell_type": "code",
   "execution_count": null,
   "metadata": {},
   "outputs": [],
   "source": []
  }
 ],
 "metadata": {
  "kernelspec": {
   "display_name": "Python 3",
   "language": "python",
   "name": "python3"
  },
  "language_info": {
   "codemirror_mode": {
    "name": "ipython",
    "version": 3
   },
   "file_extension": ".py",
   "mimetype": "text/x-python",
   "name": "python",
   "nbconvert_exporter": "python",
   "pygments_lexer": "ipython3",
   "version": "3.6.4"
  }
 },
 "nbformat": 4,
 "nbformat_minor": 2
}
