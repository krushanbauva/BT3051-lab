{
 "cells": [
  {
   "cell_type": "code",
   "execution_count": 30,
   "metadata": {},
   "outputs": [],
   "source": [
    "# BT5071 pop quiz 2\n",
    "# Roll Number: BE17B037\n",
    "# Name: Krushan Bauva\n",
    "\n",
    "def bubble(A):\n",
    "    n = len(A)\n",
    "    if n%2 == 1:\n",
    "        A1 = A[0:n//2+1]\n",
    "        A2 = A[n//2+1:n]\n",
    "    else:\n",
    "        A1 = A[0:n//2]\n",
    "        A2 = A[n//2:n]\n",
    "    n1 = len(A1)\n",
    "    for i in range(n1-1, 0, -1):\n",
    "        for j in range(i):\n",
    "            if A1[j]>A1[j+1]:\n",
    "                A1[j], A1[j+1] = A1[j+1], A1[j]\n",
    "    n2 = len(A2)\n",
    "    for i in range(n2-1):\n",
    "        for j in range(n2-1, i, -1):\n",
    "            if A2[j]>A2[j-1]:\n",
    "                A2[j], A2[j-1] = A2[j-1], A2[j]\n",
    "    return (A1, A2)\n",
    "\n",
    "# Bubble sort is a stable sort since it does not reorder for equal things. Only when one\n",
    "# element is greater than the other, it does a mutual swap between them.\n",
    "\n",
    "# Bubble sort's time complexity is O(n^2). Since the outer loop runs for n-1 times and the inner\n",
    "# loop runs till the index of the outer loop. So if we add all these we get approx =\n",
    "# (n-1)^2 + (n-2)^2 + (n-3)^2 + ..... (3)^2 + (2)^2 + (1)^2 = n(n-1)/2 = O(n^2)\n",
    "# Hence the time complexity of bubble sort is O(n^2)."
   ]
  },
  {
   "cell_type": "code",
   "execution_count": 32,
   "metadata": {},
   "outputs": [
    {
     "data": {
      "text/plain": [
       "([0, 1, 2, 3, 4, 5, 6, 23, 34, 65, 87], [325, 13, 11, 9, 9, 8, 7, 7, 6, 5])"
      ]
     },
     "execution_count": 32,
     "metadata": {},
     "output_type": "execute_result"
    }
   ],
   "source": [
    "bubble([3,2,4,1,6,87,23,65,34,5,0,6,9,8,7,11,9,5,13,325,7])"
   ]
  },
  {
   "cell_type": "code",
   "execution_count": 33,
   "metadata": {},
   "outputs": [
    {
     "data": {
      "text/plain": [
       "([1, 2, 3, 4, 5, 20], [11, 9, 8, 7, 6])"
      ]
     },
     "execution_count": 33,
     "metadata": {},
     "output_type": "execute_result"
    }
   ],
   "source": [
    "bubble([3,2,4,1,5,20,6,9,8,7,11])"
   ]
  },
  {
   "cell_type": "code",
   "execution_count": 67,
   "metadata": {},
   "outputs": [],
   "source": [
    "def bubble_sort(A):\n",
    "    n = len(A)\n",
    "    for i in range(n-1):\n",
    "        for j in range(n-1, i, -1):\n",
    "            if A[j] > A[j-1]:\n",
    "                A[j], A[j-1] = A[j-1], A[j]\n",
    "    return A\n",
    "class Priority_Queue:\n",
    "    def __init__(self, A = []):\n",
    "        self.A = A\n",
    "        bubble_sort(self.A)\n",
    "    def enqueue(self, x):\n",
    "        self.A.append(x)\n",
    "        bubble_sort(self.A)\n",
    "    def dequeue(self):\n",
    "        if len(self.A) > 0:\n",
    "            return self.A.pop(0)\n",
    "        else:\n",
    "            print(\"Priority queue already empty\")"
   ]
  },
  {
   "cell_type": "code",
   "execution_count": 68,
   "metadata": {},
   "outputs": [],
   "source": [
    "B = Priority_Queue()"
   ]
  },
  {
   "cell_type": "code",
   "execution_count": 69,
   "metadata": {},
   "outputs": [],
   "source": [
    "B.enqueue(2)\n",
    "B.enqueue(5)\n",
    "B.enqueue(1)\n",
    "B.enqueue(0)"
   ]
  },
  {
   "cell_type": "code",
   "execution_count": 70,
   "metadata": {},
   "outputs": [
    {
     "data": {
      "text/plain": [
       "5"
      ]
     },
     "execution_count": 70,
     "metadata": {},
     "output_type": "execute_result"
    }
   ],
   "source": [
    "B.dequeue()"
   ]
  },
  {
   "cell_type": "code",
   "execution_count": 71,
   "metadata": {},
   "outputs": [
    {
     "data": {
      "text/plain": [
       "2"
      ]
     },
     "execution_count": 71,
     "metadata": {},
     "output_type": "execute_result"
    }
   ],
   "source": [
    "B.dequeue()"
   ]
  },
  {
   "cell_type": "code",
   "execution_count": 72,
   "metadata": {},
   "outputs": [
    {
     "data": {
      "text/plain": [
       "1"
      ]
     },
     "execution_count": 72,
     "metadata": {},
     "output_type": "execute_result"
    }
   ],
   "source": [
    "B.dequeue()"
   ]
  },
  {
   "cell_type": "code",
   "execution_count": 73,
   "metadata": {},
   "outputs": [
    {
     "data": {
      "text/plain": [
       "0"
      ]
     },
     "execution_count": 73,
     "metadata": {},
     "output_type": "execute_result"
    }
   ],
   "source": [
    "B.dequeue()"
   ]
  },
  {
   "cell_type": "code",
   "execution_count": 74,
   "metadata": {},
   "outputs": [
    {
     "name": "stdout",
     "output_type": "stream",
     "text": [
      "Priority queue already empty\n"
     ]
    }
   ],
   "source": [
    "B.dequeue()"
   ]
  },
  {
   "cell_type": "code",
   "execution_count": 92,
   "metadata": {},
   "outputs": [],
   "source": [
    "def bubble_sort(A):\n",
    "    n = len(A)\n",
    "    for i in range(n-1):\n",
    "        for j in range(n-1, i, -1):\n",
    "            if A[j][1] > A[j-1][1]:\n",
    "                A[j], A[j-1] = A[j-1], A[j]\n",
    "    return A\n",
    "class Priority_Queue_improved:\n",
    "    def __init__(self, A = []):\n",
    "        self.A = A\n",
    "        bubble_sort(self.A)\n",
    "    def enqueue(self, x, v):\n",
    "        self.A.append((x, v))\n",
    "        bubble_sort(self.A)\n",
    "    def dequeue(self):\n",
    "        if len(self.A) > 0:\n",
    "            return self.A.pop(0)[0]\n",
    "        else:\n",
    "            print(\"Priority queue already empty\")"
   ]
  },
  {
   "cell_type": "code",
   "execution_count": 99,
   "metadata": {},
   "outputs": [],
   "source": [
    "F = Priority_Queue_improved([(2,1),(5,3),(1,4),(0,2)])"
   ]
  },
  {
   "cell_type": "code",
   "execution_count": 100,
   "metadata": {},
   "outputs": [
    {
     "data": {
      "text/plain": [
       "1"
      ]
     },
     "execution_count": 100,
     "metadata": {},
     "output_type": "execute_result"
    }
   ],
   "source": [
    "F.dequeue()"
   ]
  },
  {
   "cell_type": "code",
   "execution_count": 101,
   "metadata": {},
   "outputs": [
    {
     "data": {
      "text/plain": [
       "5"
      ]
     },
     "execution_count": 101,
     "metadata": {},
     "output_type": "execute_result"
    }
   ],
   "source": [
    "F.dequeue()"
   ]
  },
  {
   "cell_type": "code",
   "execution_count": 102,
   "metadata": {},
   "outputs": [
    {
     "data": {
      "text/plain": [
       "0"
      ]
     },
     "execution_count": 102,
     "metadata": {},
     "output_type": "execute_result"
    }
   ],
   "source": [
    "F.dequeue()"
   ]
  },
  {
   "cell_type": "code",
   "execution_count": 103,
   "metadata": {},
   "outputs": [
    {
     "data": {
      "text/plain": [
       "2"
      ]
     },
     "execution_count": 103,
     "metadata": {},
     "output_type": "execute_result"
    }
   ],
   "source": [
    "F.dequeue()"
   ]
  },
  {
   "cell_type": "code",
   "execution_count": 104,
   "metadata": {},
   "outputs": [
    {
     "name": "stdout",
     "output_type": "stream",
     "text": [
      "Priority queue already empty\n"
     ]
    }
   ],
   "source": [
    "F.dequeue()"
   ]
  },
  {
   "cell_type": "code",
   "execution_count": null,
   "metadata": {},
   "outputs": [],
   "source": []
  }
 ],
 "metadata": {
  "kernelspec": {
   "display_name": "Python 3",
   "language": "python",
   "name": "python3"
  },
  "language_info": {
   "codemirror_mode": {
    "name": "ipython",
    "version": 3
   },
   "file_extension": ".py",
   "mimetype": "text/x-python",
   "name": "python",
   "nbconvert_exporter": "python",
   "pygments_lexer": "ipython3",
   "version": "3.6.4"
  }
 },
 "nbformat": 4,
 "nbformat_minor": 2
}
