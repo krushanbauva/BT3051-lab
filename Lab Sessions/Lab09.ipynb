{
 "cells": [
  {
   "cell_type": "code",
   "execution_count": 73,
   "metadata": {},
   "outputs": [],
   "source": [
    "import sys\n",
    "def edit_distance(s, t):\n",
    "    s = \" \" + s\n",
    "    t = \" \" + t\n",
    "    E = [[sys.maxsize for i in range(len(t))] for j in range(len(s))]\n",
    "    E[0][0] = 0\n",
    "    for i in range(len(s)):\n",
    "        for j in range(len(t)):\n",
    "            if i-1 >= 0 and j >= 0:\n",
    "                E[i][j] = min(E[i][j], E[i-1][j] + 1)\n",
    "            if i-1 >= 0 and j-1 >= 0:\n",
    "                if s[i] == t[j]:\n",
    "                    E[i][j] = min(E[i][j], E[i-1][j-1])\n",
    "                else:\n",
    "                    E[i][j] = min(E[i][j], E[i-1][j-1] + 1)\n",
    "            if i >= 0 and j-1 >= 0:\n",
    "                E[i][j] = min(E[i][j], E[i][j-1] + 1)\n",
    "    print(E)\n",
    "    return E[len(s)-1][len(t)-1]"
   ]
  },
  {
   "cell_type": "code",
   "execution_count": 74,
   "metadata": {},
   "outputs": [
    {
     "name": "stdout",
     "output_type": "stream",
     "text": [
      "[[0, 1, 2, 3, 4, 5], [1, 1, 2, 3, 4, 5], [2, 2, 1, 2, 3, 4], [3, 3, 2, 1, 2, 3], [4, 4, 3, 2, 1, 2]]\n"
     ]
    },
    {
     "data": {
      "text/plain": [
       "2"
      ]
     },
     "execution_count": 74,
     "metadata": {},
     "output_type": "execute_result"
    }
   ],
   "source": [
    "edit_distance(\"rock\", \"locks\")"
   ]
  },
  {
   "cell_type": "code",
   "execution_count": 75,
   "metadata": {},
   "outputs": [
    {
     "name": "stdout",
     "output_type": "stream",
     "text": [
      "[[0, 1, 2, 3, 4, 5], [1, 0, 1, 2, 3, 4], [2, 1, 0, 1, 2, 3], [3, 2, 1, 0, 1, 2], [4, 3, 2, 1, 1, 2], [5, 4, 3, 2, 1, 2], [6, 5, 4, 3, 2, 1], [7, 6, 5, 4, 3, 2]]\n"
     ]
    },
    {
     "data": {
      "text/plain": [
       "2"
      ]
     },
     "execution_count": 75,
     "metadata": {},
     "output_type": "execute_result"
    }
   ],
   "source": [
    "edit_distance(\"monkeys\", \"money\")"
   ]
  },
  {
   "cell_type": "code",
   "execution_count": 76,
   "metadata": {},
   "outputs": [
    {
     "name": "stdout",
     "output_type": "stream",
     "text": [
      "[[0, 1, 2, 3, 4, 5, 6, 7, 8], [1, 1, 2, 2, 3, 4, 5, 6, 7], [2, 1, 1, 2, 2, 3, 4, 5, 6], [3, 2, 1, 2, 2, 3, 4, 4, 5], [4, 3, 2, 1, 2, 3, 3, 4, 5], [5, 4, 3, 2, 1, 2, 3, 3, 4], [6, 5, 4, 3, 2, 1, 2, 3, 4], [7, 6, 5, 4, 3, 2, 1, 2, 3], [8, 7, 6, 5, 4, 3, 2, 1, 2]]\n"
     ]
    },
    {
     "data": {
      "text/plain": [
       "2"
      ]
     },
     "execution_count": 76,
     "metadata": {},
     "output_type": "execute_result"
    }
   ],
   "source": [
    "edit_distance(\"ATTATCAT\", \"TTATCATT\")"
   ]
  },
  {
   "cell_type": "code",
   "execution_count": 79,
   "metadata": {},
   "outputs": [],
   "source": [
    "def coin_change(x, den):\n",
    "    cost = [sys.maxsize for i in range(x+1)]\n",
    "    cost[0] = 0\n",
    "    for i in range(1, x+1):\n",
    "        for j in den:\n",
    "            if i-j >= 0:\n",
    "                cost[i] = min(cost[i], cost[i-j] + 1)\n",
    "    return cost[x]"
   ]
  },
  {
   "cell_type": "code",
   "execution_count": 82,
   "metadata": {},
   "outputs": [
    {
     "data": {
      "text/plain": [
       "2"
      ]
     },
     "execution_count": 82,
     "metadata": {},
     "output_type": "execute_result"
    }
   ],
   "source": [
    "den = [1, 4, 5]\n",
    "coin_change(9, den)"
   ]
  },
  {
   "cell_type": "code",
   "execution_count": 83,
   "metadata": {},
   "outputs": [
    {
     "data": {
      "text/plain": [
       "2"
      ]
     },
     "execution_count": 83,
     "metadata": {},
     "output_type": "execute_result"
    }
   ],
   "source": [
    "coin_change(8, den)"
   ]
  },
  {
   "cell_type": "code",
   "execution_count": null,
   "metadata": {},
   "outputs": [],
   "source": []
  }
 ],
 "metadata": {
  "kernelspec": {
   "display_name": "Python 3",
   "language": "python",
   "name": "python3"
  },
  "language_info": {
   "codemirror_mode": {
    "name": "ipython",
    "version": 3
   },
   "file_extension": ".py",
   "mimetype": "text/x-python",
   "name": "python",
   "nbconvert_exporter": "python",
   "pygments_lexer": "ipython3",
   "version": "3.6.4"
  }
 },
 "nbformat": 4,
 "nbformat_minor": 2
}
