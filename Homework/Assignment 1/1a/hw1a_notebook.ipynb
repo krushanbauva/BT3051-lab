{
 "cells": [
  {
   "cell_type": "code",
   "execution_count": 5,
   "metadata": {},
   "outputs": [],
   "source": [
    "#BT3051 Assignment 1a\n",
    "#Roll number: BE17B037\n",
    "#Collaborators: none\n",
    "#Time: 30:00\n",
    "\n",
    "class Gene:\n",
    "    def __init__(self, geneID = \"\", sequence = \"\"):\n",
    "        self.geneID = geneID\n",
    "        self.sequence = sequence\n",
    "        self.length = len(sequence)\n",
    "    def __add__(self, other):\n",
    "        geneID = self.geneID + other.geneID\n",
    "        sequence = self.sequence + other.sequence\n",
    "        return Gene(geneID, sequence)\n",
    "    def __neg__(self):\n",
    "        comp_seq = \"\"\n",
    "        for i in self.sequence:\n",
    "            comp_seq = comp_seq + \"TACG\"[\"ATGC\".find(i)]\n",
    "        return comp_seq\n",
    "\n",
    "def GC_content(a):\n",
    "    GC_bases = 0\n",
    "    for i in a.sequence:\n",
    "        if i in \"GC\":\n",
    "            GC_bases += 1\n",
    "    return round((GC_bases*100/a.length), 1)"
   ]
  },
  {
   "cell_type": "code",
   "execution_count": 6,
   "metadata": {},
   "outputs": [
    {
     "data": {
      "text/plain": [
       "47.4"
      ]
     },
     "execution_count": 6,
     "metadata": {},
     "output_type": "execute_result"
    }
   ],
   "source": [
    "a = Gene(\"DNA1\", \"AGCTGCATGTACGTAGTCA\")\n",
    "b = Gene(\"DNA2\", \"TCATCGGTAGCAATTT\")\n",
    "GC_content(a)"
   ]
  },
  {
   "cell_type": "code",
   "execution_count": 7,
   "metadata": {},
   "outputs": [
    {
     "data": {
      "text/plain": [
       "'AGCTGCATGTACGTAGTCATCATCGGTAGCAATTT'"
      ]
     },
     "execution_count": 7,
     "metadata": {},
     "output_type": "execute_result"
    }
   ],
   "source": [
    "c = a + b\n",
    "c.sequence"
   ]
  },
  {
   "cell_type": "code",
   "execution_count": 8,
   "metadata": {},
   "outputs": [
    {
     "data": {
      "text/plain": [
       "'TCGACGTACATGCATCAGT'"
      ]
     },
     "execution_count": 8,
     "metadata": {},
     "output_type": "execute_result"
    }
   ],
   "source": [
    "-a"
   ]
  },
  {
   "cell_type": "code",
   "execution_count": null,
   "metadata": {},
   "outputs": [],
   "source": []
  }
 ],
 "metadata": {
  "kernelspec": {
   "display_name": "Python 3",
   "language": "python",
   "name": "python3"
  },
  "language_info": {
   "codemirror_mode": {
    "name": "ipython",
    "version": 3
   },
   "file_extension": ".py",
   "mimetype": "text/x-python",
   "name": "python",
   "nbconvert_exporter": "python",
   "pygments_lexer": "ipython3",
   "version": "3.6.7"
  }
 },
 "nbformat": 4,
 "nbformat_minor": 2
}
